{
  "cells": [
    {
      "cell_type": "markdown",
      "id": "ae56fce0",
      "metadata": {},
      "source": [
        "# Q# Interop with Qiskit"
      ]
    },
    {
      "cell_type": "markdown",
      "id": "2b838c23",
      "metadata": {},
      "source": [
        "The modern QDK provides interoperability with Qiskit circuits built upon the core Q# compiler infrastructure.\n",
        "\n",
        "This core enable integration and local resource estimation without relying on external tools. Users are able to estimate resources for their Qiskit circuits locally (see the [resource estimation with Qiskit sample notebook](../../estimation/estimation-qiskit.ipynb)), leveraging the Q# compiler's capabilities for analysis, transformation, code generation, and simulation. This also enables the generation of QIR from Qiskit circuits leveraging the [modern QDKs advanced code generation capabilities](https://devblogs.microsoft.com/qsharp/integrated-hybrid-support-in-the-azure-quantum-development-kit/).\n",
        "\n",
        "This includes support for circuits with classical instructions available in Qiskit such as for loops, if statements, switch statements, while loops, and more."
      ]
    },
    {
      "cell_type": "markdown",
      "id": "a2f48f2b",
      "metadata": {},
      "source": [
        "Import the Q# module.\n",
        "\n",
        "This enables the `%%qsharp` magic and initializes a Q# interpreter singleton."
      ]
    },
    {
      "cell_type": "code",
      "execution_count": 19,
      "id": "1e8e4faa",
      "metadata": {},
      "outputs": [],
      "source": [
        "import qsharp"
      ]
    },
    {
      "cell_type": "markdown",
      "id": "4f761649",
      "metadata": {},
      "source": [
        "#### Qiskit circuits\n",
        "We can create a simple circuit with a prepared state."
      ]
    },
    {
      "cell_type": "code",
      "execution_count": 20,
      "id": "e91dd2d7",
      "metadata": {},
      "outputs": [
        {
          "data": {
            "text/plain": [
              "<qiskit.circuit.instructionset.InstructionSet at 0x11b97ef80>"
            ]
          },
          "execution_count": 20,
          "metadata": {},
          "output_type": "execute_result"
        }
      ],
      "source": [
        "from qiskit import QuantumCircuit\n",
        "import numpy as np\n",
        "\n",
        "circuit = QuantumCircuit(2, 2)\n",
        "circuit.name = \"state_prep\"\n",
        "\n",
        "# State vector to initialize: |ψ⟩ = (|0⟩ - |1⟩) / √2\n",
        "circuit.initialize([1 / np.sqrt(2), -1 / np.sqrt(2)], 0)\n",
        "circuit.h(0)\n",
        "circuit.measure(0, 0)\n",
        "\n",
        "circuit.prepare_state([1 / np.sqrt(2), -1 / np.sqrt(2)], 1)\n",
        "circuit.h(1)\n",
        "circuit.measure(1, 1)"
      ]
    },
    {
      "cell_type": "markdown",
      "id": "922f8420",
      "metadata": {},
      "source": [
        "We can run the circuit Q#'s backend"
      ]
    },
    {
      "cell_type": "code",
      "execution_count": 21,
      "id": "7c69aeac",
      "metadata": {},
      "outputs": [
        {
          "name": "stdout",
          "output_type": "stream",
          "text": [
            "{'11': 1024}\n"
          ]
        }
      ],
      "source": [
        "from qsharp.interop.qiskit import QSharpSimulator\n",
        "\n",
        "backend = QSharpSimulator()\n",
        "job = backend.run(circuit)\n",
        "counts = job.result().get_counts()\n",
        "print(counts)"
      ]
    },
    {
      "cell_type": "markdown",
      "id": "9c84df75",
      "metadata": {},
      "source": [
        "#### Parameterized Qiskit circuits\n",
        "Some circuits require parameters as input. We can create a simple circuit that is parameterized."
      ]
    },
    {
      "cell_type": "code",
      "execution_count": 22,
      "id": "5d766661",
      "metadata": {},
      "outputs": [],
      "source": [
        "from typing import List\n",
        "\n",
        "import numpy as np\n",
        "from qiskit import QuantumCircuit\n",
        "from qiskit.circuit import Parameter\n",
        "\n",
        "\n",
        "def get_theta_range(samples: int) -> List[float]:\n",
        "    return np.linspace(0, 2 * np.pi, samples)\n",
        "\n",
        "\n",
        "def get_parameterized_circuit(n: int) -> QuantumCircuit:\n",
        "    theta = Parameter(\"θ\")\n",
        "    n = 5\n",
        "    qc = QuantumCircuit(n, 1)\n",
        "    qc.h(0)\n",
        "    for i in range(n - 1):\n",
        "        qc.cx(i, i + 1)\n",
        "    qc.barrier()\n",
        "    qc.rz(theta, range(n))\n",
        "    qc.barrier()\n",
        "\n",
        "    for i in reversed(range(n - 1)):\n",
        "        qc.cx(i, i + 1)\n",
        "    qc.h(0)\n",
        "    qc.measure(0, 0)\n",
        "    return qc\n",
        "\n",
        "\n",
        "def get_parameterized_circuits(n: int, theta_range: List[float]) -> List[QuantumCircuit]:\n",
        "    qc = get_parameterized_circuit(n)\n",
        "    qc.draw()\n",
        "    theta = qc.parameters[0]\n",
        "    circuits = [qc.assign_parameters({theta: theta_val}) for theta_val in theta_range]\n",
        "    return circuits"
      ]
    },
    {
      "cell_type": "markdown",
      "id": "d6b97850",
      "metadata": {},
      "source": [
        "Attempting to run without binding all input will generate an error in the job."
      ]
    },
    {
      "cell_type": "code",
      "execution_count": 23,
      "id": "4e05b81e",
      "metadata": {},
      "outputs": [
        {
          "name": "stdout",
          "output_type": "stream",
          "text": [
            "params are required when the circuit has unbound input parameters\n",
            "  help: Parameters: θ: Double\n"
          ]
        }
      ],
      "source": [
        "from qsharp import QSharpError\n",
        "from qsharp.interop.qiskit import QSharpSimulator\n",
        "from qiskit.providers import JobStatus\n",
        "\n",
        "circuit = get_parameterized_circuit(3)\n",
        "backend = QSharpSimulator()\n",
        "try:\n",
        "    backend.qir(circuit)\n",
        "except QSharpError as e:\n",
        "    print(e)"
      ]
    },
    {
      "cell_type": "markdown",
      "id": "ee4d57b4",
      "metadata": {},
      "source": [
        "Any parameters must be bound before we can run the circuit. This is done by setting the `params` argument to the `run` function."
      ]
    },
    {
      "cell_type": "code",
      "execution_count": 24,
      "id": "d9bb3eb0",
      "metadata": {},
      "outputs": [
        {
          "name": "stdout",
          "output_type": "stream",
          "text": [
            "{'1': 922, '0': 102}\n"
          ]
        }
      ],
      "source": [
        "from qsharp.interop.qiskit import QSharpSimulator\n",
        "from qiskit.providers import JobStatus\n",
        "\n",
        "circuit = get_parameterized_circuit(3)\n",
        "backend = QSharpSimulator()\n",
        "# todo: should we support params={\"θ\": \"0.5\"}?\n",
        "job = backend.run(circuit, params=\"0.5\")\n",
        "result = job.result()\n",
        "assert job.status() == JobStatus.DONE\n",
        "counts = result.get_counts()\n",
        "print(counts)"
      ]
    },
    {
      "cell_type": "markdown",
      "id": "19fe051f",
      "metadata": {},
      "source": [
        "#### Asychronous jobs"
      ]
    },
    {
      "cell_type": "code",
      "execution_count": 25,
      "id": "70006cc0",
      "metadata": {},
      "outputs": [],
      "source": [
        "from concurrent.futures import ThreadPoolExecutor\n",
        "\n",
        "executor = ThreadPoolExecutor(max_workers=4)"
      ]
    },
    {
      "cell_type": "markdown",
      "id": "25d3c35f",
      "metadata": {},
      "source": [
        "Run the circuits"
      ]
    },
    {
      "cell_type": "code",
      "execution_count": 26,
      "id": "2b2a53bf",
      "metadata": {},
      "outputs": [
        {
          "name": "stdout",
          "output_type": "stream",
          "text": [
            "JobStatus.DONE\n"
          ]
        }
      ],
      "source": [
        "num_samples = 256\n",
        "theta_range = get_theta_range(num_samples)\n",
        "circuits = get_parameterized_circuits(5, theta_range)\n",
        "\n",
        "backend = QSharpSimulator()\n",
        "job = backend.run(circuits, executor=executor)\n",
        "job.wait_for_final_state(wait=0.5)\n",
        "result = job.result()\n",
        "print(job.status())\n",
        "counts = job.result().get_counts()"
      ]
    },
    {
      "cell_type": "markdown",
      "id": "35b90aef",
      "metadata": {},
      "source": [
        "Render the results using numpy"
      ]
    },
    {
      "cell_type": "code",
      "execution_count": 27,
      "id": "2efad0f0",
      "metadata": {},
      "outputs": [
        {
          "data": {
            "text/plain": [
              "<matplotlib.legend.Legend at 0x11cb77910>"
            ]
          },
          "execution_count": 27,
          "metadata": {},
          "output_type": "execute_result"
        },
        {
          "data": {
            "image/png": "[encoded data removed]",
            "text/plain": [
              "<Figure size 800x600 with 1 Axes>"
            ]
          },
          "metadata": {},
          "output_type": "display_data"
        }
      ],
      "source": [
        "import matplotlib.pyplot as plt\n",
        "\n",
        "fig = plt.figure(figsize=(8, 6))\n",
        "ax = fig.add_subplot(111)\n",
        "\n",
        "theta_range = get_theta_range(num_samples)\n",
        "ax.plot(theta_range, list(map(lambda c: c.get(\"0\", 0), counts)), \".-\", label=\"0\")\n",
        "ax.plot(theta_range, list(map(lambda c: c.get(\"1\", 0), counts)), \".-\", label=\"1\")\n",
        "\n",
        "ax.set_xticks([i * np.pi / 2 for i in range(5)])\n",
        "ax.set_xticklabels(\n",
        "    [\"0\", r\"$\\frac{\\pi}{2}$\", r\"$\\pi$\", r\"$\\frac{3\\pi}{2}$\", r\"$2\\pi$\"], fontsize=14\n",
        ")\n",
        "ax.set_xlabel(\"θ\", fontsize=14)\n",
        "ax.set_ylabel(\"Counts\", fontsize=14)\n",
        "ax.legend(fontsize=14)"
      ]
    },
    {
      "cell_type": "markdown",
      "id": "974b3131",
      "metadata": {},
      "source": [
        "## Classical instructions in circuits"
      ]
    },
    {
      "cell_type": "markdown",
      "id": "42f916c9",
      "metadata": {},
      "source": [
        "### Run Qiskit with classical instructions\n"
      ]
    },
    {
      "cell_type": "code",
      "execution_count": 29,
      "id": "30d29199",
      "metadata": {},
      "outputs": [
        {
          "name": "stdout",
          "output_type": "stream",
          "text": [
            "OPENQASM 3.0;\n",
            "include \"stdgates.inc\";\n",
            "bit _bit0;\n",
            "int switch_dummy;\n",
            "qubit _qubit0;\n",
            "switch_dummy = _bit0;\n",
            "switch (switch_dummy) {\n",
            "  case 1 {\n",
            "    x _qubit0;\n",
            "  }\n",
            "  case 0 {\n",
            "    z _qubit0;\n",
            "  }\n",
            "}\n",
            "\n",
            "Generating QIR again with profile override\n"
          ]
        },
        {
          "ename": "QSharpError",
          "evalue": "\u001b[31mQsc.TypeCk.TyMismatch\u001b[0m\n\n  \u001b[31m×\u001b[0m type error\n\u001b[31m  ╰─▶ \u001b[0mexpected Int, found BigInt\n   ╭─[\u001b[36;1;4m<entry>\u001b[0m:1:1]\n \u001b[2m1\u001b[0m │ OPENQASM 3.0;\n   · \u001b[35;1m▲\u001b[0m\n \u001b[2m2\u001b[0m │ include \"stdgates.inc\";\n   ╰────\n\u001b[31mQsc.TypeCk.TyMismatch\u001b[0m\n\n  \u001b[31m×\u001b[0m type error\n\u001b[31m  ╰─▶ \u001b[0mexpected BigInt, found Int\n    ╭─[\u001b[36;1;4m<entry>\u001b[0m:3:1]\n \u001b[2m 3\u001b[0m │     bit _bit0;\n \u001b[2m 4\u001b[0m │ \u001b[35;1m╭\u001b[0m\u001b[35;1m─\u001b[0m\u001b[35;1m▶\u001b[0m int switch_dummy;\n \u001b[2m 5\u001b[0m │ \u001b[35;1m│\u001b[0m   qubit _qubit0;\n \u001b[2m 6\u001b[0m │ \u001b[35;1m│\u001b[0m   switch_dummy = _bit0;\n \u001b[2m 7\u001b[0m │ \u001b[35;1m│\u001b[0m   switch (switch_dummy) {\n \u001b[2m 8\u001b[0m │ \u001b[35;1m│\u001b[0m     case 1 {\n \u001b[2m 9\u001b[0m │ \u001b[35;1m╰\u001b[0m\u001b[35;1m─\u001b[0m\u001b[35;1m▶\u001b[0m     x _qubit0;\n \u001b[2m10\u001b[0m │       }\n    ╰────\n",
          "output_type": "error",
          "traceback": [
            "\u001b[0;31m---------------------------------------------------------------------------\u001b[0m",
            "\u001b[0;31mQSharpError\u001b[0m                               Traceback (most recent call last)",
            "Cell \u001b[0;32mIn[29], line 24\u001b[0m\n\u001b[1;32m     22\u001b[0m     \u001b[38;5;28mprint\u001b[39m(e)\n\u001b[1;32m     23\u001b[0m \u001b[38;5;28mprint\u001b[39m(\u001b[38;5;124m\"\u001b[39m\u001b[38;5;124mGenerating QIR again with profile override\u001b[39m\u001b[38;5;124m\"\u001b[39m)\n\u001b[0;32m---> 24\u001b[0m \u001b[38;5;28mprint\u001b[39m(\u001b[43mbackend\u001b[49m\u001b[38;5;241;43m.\u001b[39;49m\u001b[43mqir\u001b[49m\u001b[43m(\u001b[49m\u001b[43mqc\u001b[49m\u001b[43m,\u001b[49m\u001b[43m \u001b[49m\u001b[43mtarget_profile\u001b[49m\u001b[38;5;241;43m=\u001b[39;49m\u001b[43mTargetProfile\u001b[49m\u001b[38;5;241;43m.\u001b[39;49m\u001b[43mAdaptive_RI\u001b[49m\u001b[43m)\u001b[49m)\n",
            "File \u001b[0;32m~/dev/qsharp/pip/.venv/lib/python3.11/site-packages/qsharp/interop/qiskit/backends/qsbackend.py:445\u001b[0m, in \u001b[0;36mQsBackend.qir\u001b[0;34m(self, circuit, **kwargs)\u001b[0m\n\u001b[1;32m    442\u001b[0m \u001b[38;5;28;01mif\u001b[39;00m params \u001b[38;5;129;01mis\u001b[39;00m \u001b[38;5;129;01mnot\u001b[39;00m \u001b[38;5;28;01mNone\u001b[39;00m:\n\u001b[1;32m    443\u001b[0m     qir_args[\u001b[38;5;124m\"\u001b[39m\u001b[38;5;124mparams\u001b[39m\u001b[38;5;124m\"\u001b[39m] \u001b[38;5;241m=\u001b[39m params\n\u001b[0;32m--> 445\u001b[0m \u001b[38;5;28;01mreturn\u001b[39;00m \u001b[38;5;28;43mself\u001b[39;49m\u001b[38;5;241;43m.\u001b[39;49m\u001b[43m_qir\u001b[49m\u001b[43m(\u001b[49m\u001b[43mqasm3_source\u001b[49m\u001b[43m,\u001b[49m\u001b[43m \u001b[49m\u001b[38;5;241;43m*\u001b[39;49m\u001b[38;5;241;43m*\u001b[39;49m\u001b[43mqir_args\u001b[49m\u001b[43m)\u001b[49m\n",
            "File \u001b[0;32m~/dev/qsharp/pip/.venv/lib/python3.11/site-packages/qsharp/interop/qiskit/backends/qsbackend.py:456\u001b[0m, in \u001b[0;36mQsBackend._qir\u001b[0;34m(self, source, **kwargs)\u001b[0m\n\u001b[1;32m    453\u001b[0m \u001b[38;5;28;01mfrom\u001b[39;00m \u001b[38;5;21;01m.\u001b[39;00m\u001b[38;5;21;01m.\u001b[39;00m\u001b[38;5;21;01m.\u001b[39;00m\u001b[38;5;21;01m.\u001b[39;00m\u001b[38;5;21;01m_fs\u001b[39;00m \u001b[38;5;28;01mimport\u001b[39;00m read_file, list_directory, resolve\n\u001b[1;32m    454\u001b[0m \u001b[38;5;28;01mfrom\u001b[39;00m \u001b[38;5;21;01m.\u001b[39;00m\u001b[38;5;21;01m.\u001b[39;00m\u001b[38;5;21;01m.\u001b[39;00m\u001b[38;5;21;01m.\u001b[39;00m\u001b[38;5;21;01m_http\u001b[39;00m \u001b[38;5;28;01mimport\u001b[39;00m fetch_github\n\u001b[0;32m--> 456\u001b[0m \u001b[38;5;28;01mreturn\u001b[39;00m \u001b[43mcompile_qasm3_to_qir\u001b[49m\u001b[43m(\u001b[49m\n\u001b[1;32m    457\u001b[0m \u001b[43m    \u001b[49m\u001b[43msource\u001b[49m\u001b[43m,\u001b[49m\n\u001b[1;32m    458\u001b[0m \u001b[43m    \u001b[49m\u001b[43mread_file\u001b[49m\u001b[43m,\u001b[49m\n\u001b[1;32m    459\u001b[0m \u001b[43m    \u001b[49m\u001b[43mlist_directory\u001b[49m\u001b[43m,\u001b[49m\n\u001b[1;32m    460\u001b[0m \u001b[43m    \u001b[49m\u001b[43mresolve\u001b[49m\u001b[43m,\u001b[49m\n\u001b[1;32m    461\u001b[0m \u001b[43m    \u001b[49m\u001b[43mfetch_github\u001b[49m\u001b[43m,\u001b[49m\n\u001b[1;32m    462\u001b[0m \u001b[43m    \u001b[49m\u001b[38;5;241;43m*\u001b[39;49m\u001b[38;5;241;43m*\u001b[39;49m\u001b[43mkwargs\u001b[49m\u001b[43m,\u001b[49m\n\u001b[1;32m    463\u001b[0m \u001b[43m\u001b[49m\u001b[43m)\u001b[49m\n",
            "\u001b[0;31mQSharpError\u001b[0m: \u001b[31mQsc.TypeCk.TyMismatch\u001b[0m\n\n  \u001b[31m×\u001b[0m type error\n\u001b[31m  ╰─▶ \u001b[0mexpected Int, found BigInt\n   ╭─[\u001b[36;1;4m<entry>\u001b[0m:1:1]\n \u001b[2m1\u001b[0m │ OPENQASM 3.0;\n   · \u001b[35;1m▲\u001b[0m\n \u001b[2m2\u001b[0m │ include \"stdgates.inc\";\n   ╰────\n\u001b[31mQsc.TypeCk.TyMismatch\u001b[0m\n\n  \u001b[31m×\u001b[0m type error\n\u001b[31m  ╰─▶ \u001b[0mexpected BigInt, found Int\n    ╭─[\u001b[36;1;4m<entry>\u001b[0m:3:1]\n \u001b[2m 3\u001b[0m │     bit _bit0;\n \u001b[2m 4\u001b[0m │ \u001b[35;1m╭\u001b[0m\u001b[35;1m─\u001b[0m\u001b[35;1m▶\u001b[0m int switch_dummy;\n \u001b[2m 5\u001b[0m │ \u001b[35;1m│\u001b[0m   qubit _qubit0;\n \u001b[2m 6\u001b[0m │ \u001b[35;1m│\u001b[0m   switch_dummy = _bit0;\n \u001b[2m 7\u001b[0m │ \u001b[35;1m│\u001b[0m   switch (switch_dummy) {\n \u001b[2m 8\u001b[0m │ \u001b[35;1m│\u001b[0m     case 1 {\n \u001b[2m 9\u001b[0m │ \u001b[35;1m╰\u001b[0m\u001b[35;1m─\u001b[0m\u001b[35;1m▶\u001b[0m     x _qubit0;\n \u001b[2m10\u001b[0m │       }\n    ╰────\n"
          ]
        }
      ],
      "source": [
        "from qiskit.circuit import (\n",
        "    Clbit,\n",
        "    QuantumCircuit,\n",
        "    Qubit,\n",
        ")\n",
        "\n",
        "from qsharp import QSharpError, TargetProfile\n",
        "\n",
        "qubit = Qubit()\n",
        "clbit = Clbit()\n",
        "case1 = QuantumCircuit([qubit, clbit])\n",
        "case1.x(0)\n",
        "case2 = QuantumCircuit([qubit, clbit])\n",
        "case2.z(0)\n",
        "qc = QuantumCircuit([qubit, clbit])\n",
        "qc.switch(clbit, [(True, case1), (False, case2)], [0], [0])\n",
        "\n",
        "backend = QSharpSimulator()\n",
        "try:\n",
        "    print(backend.qasm3(qc))\n",
        "except QSharpError as e:\n",
        "    print(e)\n",
        "print(\"Generating QIR again with profile override\")\n",
        "print(backend.qir(qc, target_profile=TargetProfile.Adaptive_RI))"
      ]
    },
    {
      "cell_type": "markdown",
      "id": "6658a413",
      "metadata": {},
      "source": [
        "### Run Qiskit circuit in new interpreter\n",
        "The `run_qiskit` function can execute a qiskit circuit as a program using the output semantics of OpenQASM 3.0 (the circuit is converted to qasm3 before execution)."
      ]
    },
    {
      "cell_type": "code",
      "execution_count": null,
      "id": "5493d379",
      "metadata": {},
      "outputs": [],
      "source": [
        "from qiskit import QuantumCircuit\n",
        "\n",
        "def ghz():\n",
        "    circuit = QuantumCircuit(4, 3)\n",
        "    circuit.name = \"Qiskit Sample - 3-qubit GHZ circuit\"\n",
        "    circuit.h(0)\n",
        "    circuit.cx(0, 1)\n",
        "    circuit.cx(1, 2)\n",
        "    circuit.measure([2, 1, 0], [1, 0, 2])\n",
        "    return circuit\n",
        "\n",
        "\n",
        "circuit = ghz()\n",
        "print(circuit.draw(output=\"text\"))\n",
        "print(QSharpSimulator().run(circuit).result().get_counts())"
      ]
    },
    {
      "cell_type": "markdown",
      "id": "b58fc967",
      "metadata": {},
      "source": [
        "### Run Qiskit circuit in interactive session"
      ]
    },
    {
      "cell_type": "code",
      "execution_count": null,
      "id": "9dce54a4",
      "metadata": {},
      "outputs": [],
      "source": [
        "from qsharp.interop import eval_qiskit\n",
        "from qiskit import QuantumCircuit\n",
        "\n",
        "def ghz():\n",
        "    circuit = QuantumCircuit(4, 3)\n",
        "    circuit.name = \"Qiskit Sample - 3-qubit GHZ circuit\"\n",
        "    circuit.h(0)\n",
        "    circuit.cx(0, 1)\n",
        "    circuit.cx(1, 2)\n",
        "    circuit.measure([2, 1, 0], [1, 0, 2])\n",
        "    return circuit\n",
        "\n",
        "circuit = ghz()\n",
        "print(eval_qiskit(circuit))"
      ]
    },
    {
      "cell_type": "code",
      "execution_count": null,
      "id": "04c491a3",
      "metadata": {},
      "outputs": [],
      "source": [
        "from qsharp import dump_machine\n",
        "from qsharp import print_locals\n",
        "\n",
        "print_locals()\n",
        "dump_machine()"
      ]
    },
    {
      "cell_type": "code",
      "execution_count": null,
      "id": "5ac62076",
      "metadata": {
        "vscode": {
          "languageId": "qsharp"
        }
      },
      "outputs": [],
      "source": [
        "%%qsharp\n",
        "Message($\"Hello from Q# {c}\");\n",
        "c"
      ]
    },
    {
      "cell_type": "markdown",
      "id": "76b38622",
      "metadata": {},
      "source": [
        "### Importing Qiskit circuits as operations"
      ]
    },
    {
      "cell_type": "markdown",
      "id": "fa737597",
      "metadata": {},
      "source": [
        "We can convert qiskit circuits into the equivalent entry point operation definitions. Using the `import_qiskit` call we get back the name of the callable created which is now available in the active session.\n",
        "\n",
        "In the future, using the `import_qiskit` call would either promote qubit decls into parameters or be forced to clean them up before returning (ensuring any qubits allocated are in the Zero state and released)."
      ]
    },
    {
      "cell_type": "code",
      "execution_count": null,
      "id": "59373bdc",
      "metadata": {},
      "outputs": [],
      "source": [
        "from qsharp.interop import import_qiskit\n",
        "from qsharp import init\n",
        "from qiskit import QuantumCircuit\n",
        "init()\n",
        "\n",
        "def ghz():\n",
        "    circuit = QuantumCircuit(4, 3)\n",
        "    circuit.name = \"Qiskit Sample - 3-qubit GHZ circuit\"\n",
        "    circuit.h(0)\n",
        "    circuit.cx(0, 1)\n",
        "    circuit.cx(1, 2)\n",
        "    circuit.measure([2, 1, 0], [1, 0, 2])\n",
        "    return circuit\n",
        "\n",
        "circuit = ghz()\n",
        "print(import_qiskit(circuit, \"ghz_name_override\"))"
      ]
    },
    {
      "cell_type": "code",
      "execution_count": null,
      "id": "3f997b63",
      "metadata": {
        "vscode": {
          "languageId": "qsharp"
        }
      },
      "outputs": [],
      "source": [
        "%%qsharp\n",
        "ghz_name_override()\n",
        "\n",
        "// We can also pass the callable to a function and run it there\n",
        "operation RunQiskitCircuit(callable : (() => Result[])) : Result[] {\n",
        "    Message(\"about to run the callable\");\n",
        "    let res = callable();\n",
        "    Message(\"callable ran\");\n",
        "    res\n",
        "}\n",
        "\n",
        "// pass the qiskit callable to the function\n",
        "RunQiskitCircuit(ghz_name_override)"
      ]
    },
    {
      "cell_type": "markdown",
      "id": "dda428b9",
      "metadata": {},
      "source": [
        "A hidden detail of the qiskit implementation is the creation of a `QSharpVirtualBackend` which allows us to do the circuit transpilation with classical logic and the intrinsic gate set defined in Q#."
      ]
    },
    {
      "cell_type": "code",
      "execution_count": null,
      "id": "9df62352",
      "metadata": {},
      "outputs": [],
      "source": [
        "from qsharp.interop._qiskit import QSharpVirtualBackend\n",
        "from qsharp import init\n",
        "init()\n",
        "\n",
        "def ghz():\n",
        "    circuit = QuantumCircuit(4, 3)\n",
        "    circuit.name = \"Qiskit Sample - 3-qubit GHZ circuit\"\n",
        "    circuit.h(0)\n",
        "    circuit.cx(0, 1)\n",
        "    circuit.cx(1, 2)\n",
        "    circuit.measure([2, 1, 0], [1, 0, 2])\n",
        "    return circuit\n",
        "\n",
        "\n",
        "circuit = ghz()\n",
        "backend = QSharpVirtualBackend()\n",
        "print(backend.run(circuit))\n",
        "\n",
        "from qsharp import dump_machine\n",
        "from qsharp import print_locals\n",
        "\n",
        "print_locals()\n",
        "dump_machine()"
      ]
    },
    {
      "cell_type": "markdown",
      "id": "514b1d74",
      "metadata": {},
      "source": [
        "Taking the above sample with input lifting with `import_qiskit` would create the equivalent to this Q# code:"
      ]
    },
    {
      "cell_type": "code",
      "execution_count": null,
      "id": "9b360660",
      "metadata": {
        "vscode": {
          "languageId": "qsharp"
        }
      },
      "outputs": [],
      "source": [
        "%%qsharp\n",
        "\n",
        "operation ghz(q: Qubit[]) : Result[] {\n",
        "    H(q[0]);\n",
        "    CNOT(q[0], q[1]);\n",
        "    CNOT(q[1], q[2]);\n",
        "    [M(q[1]), M(q[2]), M(q[0])]\n",
        "}"
      ]
    },
    {
      "cell_type": "markdown",
      "id": "b06b7857",
      "metadata": {},
      "source": [
        "## Errors\n",
        "### Parse errors\n",
        "Parse are exceptions. \n",
        "\n",
        "We can catch and handle parse errors prior to compilation."
      ]
    },
    {
      "cell_type": "code",
      "execution_count": null,
      "id": "33fd3c4d",
      "metadata": {},
      "outputs": [],
      "source": [
        "from qsharp.interop import QasmError\n",
        "\n",
        "try:\n",
        "\n",
        "except QasmError as ex:\n",
        "    print(ex)"
      ]
    },
    {
      "cell_type": "markdown",
      "id": "00f82a16",
      "metadata": {},
      "source": [
        "### Runtime Errors\n",
        "We can also catch and handle runtime errors, mapping the error back to the original code.\n",
        "\n",
        "Here we'll run an example which tries to access the fifth element in an array with only two elements."
      ]
    },
    {
      "cell_type": "code",
      "execution_count": null,
      "id": "e70a95d9",
      "metadata": {},
      "outputs": [],
      "source": [
        "from qsharp import QSharpError\n",
        "from qsharp.interop import QasmError\n",
        "\n",
        "\n",
        "try:\n",
        "    circuit = QuantumCircuit(2)\n",
        "    circuit.x(0)\n",
        "    backend = QSharpSimulator()\n",
        "    print(backend.run(circuit).result())\n",
        "except QasmError as ex:\n",
        "    print(ex)\n"
      ]
    },
    {
      "cell_type": "markdown",
      "id": "62e33a40",
      "metadata": {},
      "source": [
        "The next example is for `QIR` code generation. When generating `QIR`, all output registers must be read into before generating QIR. Failure to do so results in a `QSharpError`"
      ]
    },
    {
      "cell_type": "code",
      "execution_count": null,
      "id": "071480db",
      "metadata": {},
      "outputs": [],
      "source": [
        "circuit = QuantumCircuit(2, 2)\n",
        "circuit.x(0)\n",
        "circuit.measure(0, 1)\n",
        "backend = QSharpSimulator()\n",
        "try:\n",
        "    # TODO: the error message is incorrect:\n",
        "    # Unsupported target profile. Initialize Q# by running `qsharp.init(target_profile=qsharp.TargetProfile.Base)` before performing code generation.\n",
        "    print(backend.qir(circuit))\n",
        "except QSharpError as ex:\n",
        "    print(ex)\n",
        "\n",
        "print(\"Trying again with adaptive profile\")\n",
        "print(backend.qir(circuit, target_profile=TargetProfile.Adaptive_RI))"
      ]
    },
    {
      "cell_type": "markdown",
      "id": "3e294471",
      "metadata": {},
      "source": [
        "A runtime error that's not caught gets reported as a Python exception."
      ]
    },
    {
      "cell_type": "markdown",
      "id": "4f0e9042",
      "metadata": {},
      "source": [
        "#### Unsupported language features, `QasmError`, and `QSharpError`\n",
        "The modern QDK's interop with Qiskit is based on Qiskit's OpenQASM 3 support. Qiskit supports a subset of OpenQASM 3 features which may cause issues during conversion. If the Qiskit OpenQasm `Exporter` or OpenQasm parser don't support the feauture yet, a `QasmError` is raised prior to conversion. If there is a QASM parsing failure, this is likely an issue with the Qiskit libraries parsing or export functionality.\n",
        "\n",
        "Any failure to transform the OpenQASM into Q#'s internal representation will throw a `QSharpError` to distinguish the scenarios."
      ]
    },
    {
      "cell_type": "code",
      "execution_count": null,
      "id": "ced2c6b8",
      "metadata": {},
      "outputs": [],
      "source": []
    }
  ],
  "metadata": {
    "kernelspec": {
      "display_name": "Python 3 (ipykernel)",
      "language": "python",
      "name": "python3"
    },
    "language_info": {
      "codemirror_mode": {
        "name": "ipython",
        "version": 3
      },
      "file_extension": ".py",
      "mimetype": "text/x-python",
      "name": "python",
      "nbconvert_exporter": "python",
      "pygments_lexer": "ipython3",
      "version": "3.11.9"
    }
  },
  "nbformat": 4,
  "nbformat_minor": 5
}
