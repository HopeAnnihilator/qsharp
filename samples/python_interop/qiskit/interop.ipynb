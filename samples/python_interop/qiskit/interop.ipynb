{
  "cells": [
    {
      "cell_type": "markdown",
      "id": "ae56fce0",
      "metadata": {},
      "source": [
        "# Q# Interop with Qiskit"
      ]
    },
    {
      "cell_type": "markdown",
      "id": "2b838c23",
      "metadata": {},
      "source": [
        "The modern QDK provides interoperability with Qiskit circuits built upon the core Q# compiler infrastructure.\n",
        "\n",
        "This core enable integration and local resource estimation without relying on external tools. Users are able to estimate resources for their Qiskit circuits locally (see the [resource estimation with Qiskit sample notebook](../../estimation/estimation-qiskit.ipynb)), leveraging the Q# compiler's capabilities for analysis, transformation, code generation, and simulation. This also enables the generation of QIR from Qiskit circuits leveraging the [modern QDKs advanced code generation capabilities](https://devblogs.microsoft.com/qsharp/integrated-hybrid-support-in-the-azure-quantum-development-kit/).\n",
        "\n",
        "This includes support for circuits with classical instructions available in Qiskit such as for loops, if statements, switch statements, while loops, and more."
      ]
    },
    {
      "cell_type": "markdown",
      "id": "a2f48f2b",
      "metadata": {},
      "source": [
        "Import the Q# module.\n",
        "\n",
        "This enables the `%%qsharp` magic and initializes a Q# interpreter singleton."
      ]
    },
    {
      "cell_type": "code",
      "execution_count": null,
      "id": "1e8e4faa",
      "metadata": {},
      "outputs": [],
      "source": [
        "import qsharp"
      ]
    },
    {
      "cell_type": "markdown",
      "id": "4f761649",
      "metadata": {},
      "source": [
        "#### Qiskit circuits\n",
        "We can create a simple circuit with a prepared state."
      ]
    },
    {
      "cell_type": "code",
      "execution_count": null,
      "id": "e91dd2d7",
      "metadata": {},
      "outputs": [],
      "source": [
        "from qiskit import QuantumCircuit\n",
        "import numpy as np\n",
        "\n",
        "circuit = QuantumCircuit(2, 2)\n",
        "circuit.name = \"state_prep\"\n",
        "\n",
        "# State vector to initialize: |ψ⟩ = (|0⟩ - |1⟩) / √2\n",
        "circuit.initialize([1 / np.sqrt(2), -1 / np.sqrt(2)], 0)\n",
        "circuit.h(0)\n",
        "circuit.measure(0, 0)\n",
        "\n",
        "circuit.prepare_state([1 / np.sqrt(2), -1 / np.sqrt(2)], 1)\n",
        "circuit.h(1)\n",
        "circuit.measure(1, 1)\n",
        "circuit.draw(output=\"text\")"
      ]
    },
    {
      "cell_type": "markdown",
      "id": "922f8420",
      "metadata": {},
      "source": [
        "We can run the circuit Q#'s backend"
      ]
    },
    {
      "cell_type": "code",
      "execution_count": null,
      "id": "7c69aeac",
      "metadata": {},
      "outputs": [],
      "source": [
        "from qsharp.interop.qiskit import QSharpSimulator\n",
        "\n",
        "backend = QSharpSimulator()\n",
        "job = backend.run(circuit)\n",
        "counts = job.result().get_counts()\n",
        "print(counts)"
      ]
    },
    {
      "cell_type": "markdown",
      "id": "9c84df75",
      "metadata": {},
      "source": [
        "#### Parameterized Qiskit circuits\n",
        "Some circuits require parameters as input. We can create a simple circuit that is parameterized."
      ]
    },
    {
      "cell_type": "code",
      "execution_count": null,
      "id": "5d766661",
      "metadata": {},
      "outputs": [],
      "source": [
        "from typing import List\n",
        "\n",
        "import numpy as np\n",
        "from qiskit import QuantumCircuit\n",
        "from qiskit.circuit import Parameter\n",
        "\n",
        "\n",
        "def get_theta_range(samples: int) -> List[float]:\n",
        "    return np.linspace(0, 2 * np.pi, samples)\n",
        "\n",
        "\n",
        "def get_parameterized_circuit(n: int) -> QuantumCircuit:\n",
        "    theta = Parameter(\"θ\")\n",
        "    n = 5\n",
        "    qc = QuantumCircuit(n, 1)\n",
        "    qc.h(0)\n",
        "    for i in range(n - 1):\n",
        "        qc.cx(i, i + 1)\n",
        "    qc.barrier()\n",
        "    qc.rz(theta, range(n))\n",
        "    qc.barrier()\n",
        "\n",
        "    for i in reversed(range(n - 1)):\n",
        "        qc.cx(i, i + 1)\n",
        "    qc.h(0)\n",
        "    qc.measure(0, 0)\n",
        "    return qc\n",
        "\n",
        "\n",
        "def get_parameterized_circuits(n: int, theta_range: List[float]) -> List[QuantumCircuit]:\n",
        "    qc = get_parameterized_circuit(n)\n",
        "    qc.draw()\n",
        "    theta = qc.parameters[0]\n",
        "    circuits = [qc.assign_parameters({theta: theta_val}) for theta_val in theta_range]\n",
        "    return circuits"
      ]
    },
    {
      "cell_type": "markdown",
      "id": "d6b97850",
      "metadata": {},
      "source": [
        "Attempting to run without binding all input will generate an error in the job."
      ]
    },
    {
      "cell_type": "code",
      "execution_count": null,
      "id": "4e05b81e",
      "metadata": {},
      "outputs": [],
      "source": [
        "from qsharp import QSharpError\n",
        "from qsharp.interop.qiskit import QSharpSimulator\n",
        "from qiskit.providers import JobStatus\n",
        "\n",
        "circuit = get_parameterized_circuit(3)\n",
        "backend = QSharpSimulator()\n",
        "try:\n",
        "    backend.qir(circuit)\n",
        "except QSharpError as e:\n",
        "    print(e)"
      ]
    },
    {
      "cell_type": "markdown",
      "id": "ee4d57b4",
      "metadata": {},
      "source": [
        "Any parameters must be bound before we can run the circuit. This is done by setting the `params` argument to the `run` function."
      ]
    },
    {
      "cell_type": "code",
      "execution_count": null,
      "id": "d9bb3eb0",
      "metadata": {},
      "outputs": [],
      "source": [
        "from qsharp.interop.qiskit import QSharpSimulator\n",
        "from qiskit.providers import JobStatus\n",
        "\n",
        "circuit = get_parameterized_circuit(3)\n",
        "backend = QSharpSimulator()\n",
        "# todo: should we support params={\"θ\": \"0.5\"}?\n",
        "job = backend.run(circuit, params=\"0.5\")\n",
        "result = job.result()\n",
        "assert job.status() == JobStatus.DONE\n",
        "counts = result.get_counts()\n",
        "print(counts)"
      ]
    },
    {
      "cell_type": "markdown",
      "id": "19fe051f",
      "metadata": {},
      "source": [
        "#### Asychronous jobs"
      ]
    },
    {
      "cell_type": "code",
      "execution_count": null,
      "id": "70006cc0",
      "metadata": {},
      "outputs": [],
      "source": [
        "from concurrent.futures import ThreadPoolExecutor\n",
        "\n",
        "executor = ThreadPoolExecutor(max_workers=4)"
      ]
    },
    {
      "cell_type": "markdown",
      "id": "25d3c35f",
      "metadata": {},
      "source": [
        "Run the circuits"
      ]
    },
    {
      "cell_type": "code",
      "execution_count": null,
      "id": "2b2a53bf",
      "metadata": {},
      "outputs": [],
      "source": [
        "num_samples = 256\n",
        "theta_range = get_theta_range(num_samples)\n",
        "circuits = get_parameterized_circuits(5, theta_range)\n",
        "\n",
        "backend = QSharpSimulator()\n",
        "job = backend.run(circuits, executor=executor)\n",
        "job.wait_for_final_state(wait=0.5)\n",
        "result = job.result()\n",
        "print(job.status())\n",
        "counts = job.result().get_counts()"
      ]
    },
    {
      "cell_type": "markdown",
      "id": "35b90aef",
      "metadata": {},
      "source": [
        "Render the results using numpy"
      ]
    },
    {
      "cell_type": "code",
      "execution_count": null,
      "id": "2efad0f0",
      "metadata": {},
      "outputs": [],
      "source": [
        "import matplotlib.pyplot as plt\n",
        "\n",
        "fig = plt.figure(figsize=(8, 6))\n",
        "ax = fig.add_subplot(111)\n",
        "\n",
        "theta_range = get_theta_range(num_samples)\n",
        "ax.plot(theta_range, list(map(lambda c: c.get(\"0\", 0), counts)), \".-\", label=\"0\")\n",
        "ax.plot(theta_range, list(map(lambda c: c.get(\"1\", 0), counts)), \".-\", label=\"1\")\n",
        "\n",
        "ax.set_xticks([i * np.pi / 2 for i in range(5)])\n",
        "ax.set_xticklabels(\n",
        "    [\"0\", r\"$\\frac{\\pi}{2}$\", r\"$\\pi$\", r\"$\\frac{3\\pi}{2}$\", r\"$2\\pi$\"], fontsize=14\n",
        ")\n",
        "ax.set_xlabel(\"θ\", fontsize=14)\n",
        "ax.set_ylabel(\"Counts\", fontsize=14)\n",
        "ax.legend(fontsize=14)"
      ]
    },
    {
      "cell_type": "markdown",
      "id": "974b3131",
      "metadata": {},
      "source": [
        "## Classical instructions in circuits"
      ]
    },
    {
      "cell_type": "markdown",
      "id": "42f916c9",
      "metadata": {},
      "source": [
        "### Run Qiskit with classical instructions\n",
        "Qiskit has begun implementing some classical computation support as they expand their OpenQASM 3 support. These constructs, insofar as Qiskit can export them, can be consumed by Q#.\n",
        "\n",
        "As an example, we can create a classical switch statement in Qiskit and look at the corresponding OpenQASM 3."
      ]
    },
    {
      "cell_type": "code",
      "execution_count": null,
      "id": "30d29199",
      "metadata": {},
      "outputs": [],
      "source": [
        "from qiskit import ClassicalRegister, QuantumRegister\n",
        "from qiskit.circuit import (\n",
        "    Clbit,\n",
        "    QuantumCircuit,\n",
        "    Qubit,\n",
        ")\n",
        "\n",
        "from qsharp import QSharpError, TargetProfile\n",
        "\n",
        "qreg = QuantumRegister(3, name=\"q\")\n",
        "creg = ClassicalRegister(3, name=\"c\")\n",
        "qc = QuantumCircuit(qreg, creg)\n",
        "qc.h([0, 1, 2])\n",
        "qc.measure_all(add_bits=False)\n",
        "\n",
        "with qc.switch(creg) as case:\n",
        "    with case(7):\n",
        "        qc.x(0)\n",
        "    with case(1, 2):\n",
        "        qc.z(1)\n",
        "    with case(case.DEFAULT):\n",
        "        qc.cx(0, 1)\n",
        "\n",
        "backend = QSharpSimulator()\n",
        "\n",
        "print(backend.qasm3(qc))"
      ]
    },
    {
      "cell_type": "markdown",
      "id": "fea9051a",
      "metadata": {},
      "source": [
        "Using that same circuit, we can generate QIR which is used to run on quantum hardware."
      ]
    },
    {
      "cell_type": "code",
      "execution_count": null,
      "id": "0081f6f0",
      "metadata": {},
      "outputs": [],
      "source": [
        "backend = QSharpSimulator(target_profile=TargetProfile.Adaptive_RI)\n",
        "print(backend.qir(qc))"
      ]
    },
    {
      "cell_type": "code",
      "execution_count": null,
      "id": "06c31a67",
      "metadata": {},
      "outputs": [],
      "source": [
        "try:\n",
        "    backend.qir(qc, target_profile=TargetProfile.Base)\n",
        "except QSharpError as e:\n",
        "    print(e)"
      ]
    },
    {
      "cell_type": "markdown",
      "id": "6658a413",
      "metadata": {},
      "source": [
        "### Run Qiskit circuit in new interpreter\n",
        "The `run_qiskit` function can execute a qiskit circuit as a program using the output semantics of OpenQASM 3.0 (the circuit is converted to qasm3 before execution)."
      ]
    },
    {
      "cell_type": "code",
      "execution_count": null,
      "id": "5493d379",
      "metadata": {},
      "outputs": [],
      "source": [
        "from qiskit import QuantumCircuit\n",
        "\n",
        "def ghz():\n",
        "    circuit = QuantumCircuit(4, 3)\n",
        "    circuit.name = \"Qiskit Sample - 3-qubit GHZ circuit\"\n",
        "    circuit.h(0)\n",
        "    circuit.cx(0, 1)\n",
        "    circuit.cx(1, 2)\n",
        "    circuit.measure([2, 1, 0], [1, 0, 2])\n",
        "    return circuit\n",
        "\n",
        "\n",
        "circuit = ghz()\n",
        "print(circuit.draw(output=\"text\"))\n",
        "print(QSharpSimulator().run(circuit).result().get_counts())"
      ]
    },
    {
      "cell_type": "markdown",
      "id": "b06b7857",
      "metadata": {},
      "source": [
        "## Errors\n",
        "### Parse errors\n",
        "Parse are exceptions. \n",
        "\n",
        "We can catch and handle parse errors prior to compilation."
      ]
    },
    {
      "cell_type": "code",
      "execution_count": null,
      "id": "33fd3c4d",
      "metadata": {},
      "outputs": [],
      "source": [
        "from qsharp.interop import QasmError, QiskitError\n",
        "\n",
        "try:\n",
        "\n",
        "except QiskitError as ex:\n",
        "    print(ex)"
      ]
    },
    {
      "cell_type": "markdown",
      "id": "00f82a16",
      "metadata": {},
      "source": [
        "### Runtime Errors\n",
        "We can also catch and handle runtime errors, mapping the error back to the original code.\n",
        "\n",
        "Here we'll run an example which tries to access the fifth element in an array with only two elements."
      ]
    },
    {
      "cell_type": "code",
      "execution_count": null,
      "id": "e70a95d9",
      "metadata": {},
      "outputs": [],
      "source": [
        "from qsharp import QSharpError\n",
        "from qsharp.interop import QasmError\n",
        "\n",
        "\n",
        "try:\n",
        "    circuit = QuantumCircuit(2)\n",
        "    circuit.x(0)\n",
        "    backend = QSharpSimulator()\n",
        "    print(backend.run(circuit).result())\n",
        "except QasmError as ex:\n",
        "    print(ex)\n"
      ]
    },
    {
      "cell_type": "markdown",
      "id": "62e33a40",
      "metadata": {},
      "source": [
        "The next example is for `QIR` code generation. When generating `QIR`, all output registers must be read into before generating QIR. Failure to do so results in a `QSharpError`"
      ]
    },
    {
      "cell_type": "code",
      "execution_count": null,
      "id": "071480db",
      "metadata": {},
      "outputs": [],
      "source": [
        "circuit = QuantumCircuit(2, 2)\n",
        "circuit.x(0)\n",
        "circuit.measure(0, 1)\n",
        "backend = QSharpSimulator()\n",
        "try:\n",
        "    # TODO: the error message is incorrect:\n",
        "    # Unsupported target profile. Initialize Q# by running `qsharp.init(target_profile=qsharp.TargetProfile.Base)` before performing code generation.\n",
        "    print(backend.qir(circuit))\n",
        "except QSharpError as ex:\n",
        "    print(ex)\n",
        "\n",
        "print(\"Trying again with adaptive profile\")\n",
        "print(backend.qir(circuit, target_profile=TargetProfile.Adaptive_RI))"
      ]
    },
    {
      "cell_type": "markdown",
      "id": "3e294471",
      "metadata": {},
      "source": [
        "A runtime error that's not caught gets reported as a Python exception."
      ]
    },
    {
      "cell_type": "markdown",
      "id": "4f0e9042",
      "metadata": {},
      "source": [
        "#### Unsupported language features, `QasmError`, and `QSharpError`\n",
        "The modern QDK's interop with Qiskit is based on Qiskit's OpenQASM 3 support. Qiskit supports a subset of OpenQASM 3 features which may cause issues during conversion. If the Qiskit OpenQasm `Exporter` or OpenQasm parser don't support the feauture yet, a `QasmError` is raised prior to conversion. If there is a QASM parsing failure, this is likely an issue with the Qiskit libraries parsing or export functionality.\n",
        "\n",
        "Any failure to transform the OpenQASM into Q#'s internal representation will throw a `QSharpError` to distinguish the scenarios."
      ]
    },
    {
      "cell_type": "code",
      "execution_count": null,
      "id": "ced2c6b8",
      "metadata": {},
      "outputs": [],
      "source": []
    }
  ],
  "metadata": {
    "kernelspec": {
      "display_name": "Python 3 (ipykernel)",
      "language": "python",
      "name": "python3"
    },
    "language_info": {
      "codemirror_mode": {
        "name": "ipython",
        "version": 3
      },
      "file_extension": ".py",
      "mimetype": "text/x-python",
      "name": "python",
      "nbconvert_exporter": "python",
      "pygments_lexer": "ipython3",
      "version": "3.11.9"
    }
  },
  "nbformat": 4,
  "nbformat_minor": 5
}
